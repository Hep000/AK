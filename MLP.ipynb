{
 "cells": [
  {
   "cell_type": "code",
   "execution_count": 112,
   "id": "a391d4cd",
   "metadata": {},
   "outputs": [],
   "source": [
    "import torch\n",
    "import torch.nn.functional as F\n",
    "import matplotlib.pyplot as plt\n",
    "%matplotlib inline"
   ]
  },
  {
   "cell_type": "code",
   "execution_count": 113,
   "id": "941b265e",
   "metadata": {},
   "outputs": [
    {
     "data": {
      "text/plain": [
       "['emma', 'olivia', 'ava', 'isabella', 'sophia', 'charlotte', 'mia', 'amelia']"
      ]
     },
     "execution_count": 113,
     "metadata": {},
     "output_type": "execute_result"
    }
   ],
   "source": [
    "words = open('names.txt','r').read().splitlines()\n",
    "words[:8]"
   ]
  },
  {
   "cell_type": "code",
   "execution_count": 114,
   "id": "76c8c41a",
   "metadata": {},
   "outputs": [
    {
     "data": {
      "text/plain": [
       "32033"
      ]
     },
     "execution_count": 114,
     "metadata": {},
     "output_type": "execute_result"
    }
   ],
   "source": [
    "len(words)"
   ]
  },
  {
   "cell_type": "code",
   "execution_count": 115,
   "id": "c832a161",
   "metadata": {},
   "outputs": [
    {
     "name": "stdout",
     "output_type": "stream",
     "text": [
      "{1: 'a', 2: 'b', 3: 'c', 4: 'd', 5: 'e', 6: 'f', 7: 'g', 8: 'h', 9: 'i', 10: 'j', 11: 'k', 12: 'l', 13: 'm', 14: 'n', 15: 'o', 16: 'p', 17: 'q', 18: 'r', 19: 's', 20: 't', 21: 'u', 22: 'v', 23: 'w', 24: 'x', 25: 'y', 26: 'z', 0: '.'}\n"
     ]
    }
   ],
   "source": [
    "chars = sorted(list(set(''.join(words))))\n",
    "stoi = {s:i+1 for i,s in enumerate(chars)}\n",
    "stoi['.'] = 0\n",
    "itos = {i:s for s,i in stoi.items()}\n",
    "print(itos)"
   ]
  },
  {
   "cell_type": "code",
   "execution_count": 116,
   "id": "a6644f25",
   "metadata": {},
   "outputs": [
    {
     "name": "stdout",
     "output_type": "stream",
     "text": [
      "emma\n",
      "... ---> e\n",
      "..e ---> m\n",
      ".em ---> m\n",
      "emm ---> a\n",
      "mma ---> .\n",
      "olivia\n",
      "... ---> o\n",
      "..o ---> l\n",
      ".ol ---> i\n",
      "oli ---> v\n",
      "liv ---> i\n",
      "ivi ---> a\n",
      "via ---> .\n",
      "ava\n",
      "... ---> a\n",
      "..a ---> v\n",
      ".av ---> a\n",
      "ava ---> .\n",
      "isabella\n",
      "... ---> i\n",
      "..i ---> s\n",
      ".is ---> a\n",
      "isa ---> b\n",
      "sab ---> e\n",
      "abe ---> l\n",
      "bel ---> l\n",
      "ell ---> a\n",
      "lla ---> .\n",
      "sophia\n",
      "... ---> s\n",
      "..s ---> o\n",
      ".so ---> p\n",
      "sop ---> h\n",
      "oph ---> i\n",
      "phi ---> a\n",
      "hia ---> .\n"
     ]
    }
   ],
   "source": [
    "# build the dataset\n",
    "\n",
    "block_size = 3 # context length: how many characters do we take to predict the next one?\n",
    "X, Y = [], []\n",
    "for w in words[:5]:\n",
    "    \n",
    "    print(w)\n",
    "    context = [0] * block_size\n",
    "    for ch in w + '.':\n",
    "        ix = stoi[ch]\n",
    "        X.append(context)\n",
    "        Y.append(ix)\n",
    "        print(''.join(itos[i] for i in context), '--->', itos[ix])\n",
    "        context = context[1:] + [ix] # crop and append\n",
    "\n",
    "X = torch.tensor(X)\n",
    "Y = torch.tensor(Y)"
   ]
  },
  {
   "cell_type": "code",
   "execution_count": 117,
   "id": "c307dfe5",
   "metadata": {},
   "outputs": [
    {
     "data": {
      "text/plain": [
       "(torch.Size([32, 3]), torch.int64, torch.Size([32]), torch.int64)"
      ]
     },
     "execution_count": 117,
     "metadata": {},
     "output_type": "execute_result"
    }
   ],
   "source": [
    "X.shape, X.dtype, Y.shape, Y.dtype"
   ]
  },
  {
   "cell_type": "code",
   "execution_count": 118,
   "id": "8f3346ee",
   "metadata": {},
   "outputs": [
    {
     "data": {
      "text/plain": [
       "tensor([[ 0,  0,  0],\n",
       "        [ 0,  0,  5],\n",
       "        [ 0,  5, 13],\n",
       "        [ 5, 13, 13],\n",
       "        [13, 13,  1],\n",
       "        [ 0,  0,  0]])"
      ]
     },
     "execution_count": 118,
     "metadata": {},
     "output_type": "execute_result"
    }
   ],
   "source": [
    "X[:6,]"
   ]
  },
  {
   "cell_type": "code",
   "execution_count": 119,
   "id": "958af71d",
   "metadata": {},
   "outputs": [
    {
     "data": {
      "text/plain": [
       "tensor([ 5, 13, 13,  1,  0, 15])"
      ]
     },
     "execution_count": 119,
     "metadata": {},
     "output_type": "execute_result"
    }
   ],
   "source": [
    "Y[:6]"
   ]
  },
  {
   "cell_type": "code",
   "execution_count": 120,
   "id": "5a357ee2",
   "metadata": {},
   "outputs": [],
   "source": [
    "g = torch.Generator().manual_seed(2147483647+2)\n",
    "C = torch.randn((27, 2), generator=g)"
   ]
  },
  {
   "cell_type": "code",
   "execution_count": 121,
   "id": "ef51f3b3",
   "metadata": {},
   "outputs": [
    {
     "data": {
      "text/plain": [
       "tensor([[-0.6839,  0.0283],\n",
       "        [ 0.7678, -0.4540],\n",
       "        [-0.9346,  0.6324],\n",
       "        [ 0.4164, -1.0378],\n",
       "        [ 0.5803, -2.5756],\n",
       "        [-0.5588,  0.9751]])"
      ]
     },
     "execution_count": 121,
     "metadata": {},
     "output_type": "execute_result"
    }
   ],
   "source": [
    "C[:6,]"
   ]
  },
  {
   "cell_type": "code",
   "execution_count": 122,
   "id": "7f5ca0b4",
   "metadata": {},
   "outputs": [
    {
     "data": {
      "text/plain": [
       "torch.Size([32, 3, 2])"
      ]
     },
     "execution_count": 122,
     "metadata": {},
     "output_type": "execute_result"
    }
   ],
   "source": [
    "emb = C[X]\n",
    "emb.shape"
   ]
  },
  {
   "cell_type": "code",
   "execution_count": 123,
   "id": "315bf856",
   "metadata": {},
   "outputs": [],
   "source": [
    "W1 = torch.randn((6,100), generator=g)\n",
    "b1 = torch.randn(100, generator=g)"
   ]
  },
  {
   "cell_type": "code",
   "execution_count": 124,
   "id": "f838f1c4",
   "metadata": {},
   "outputs": [
    {
     "data": {
      "text/plain": [
       "torch.Size([32, 6])"
      ]
     },
     "execution_count": 124,
     "metadata": {},
     "output_type": "execute_result"
    }
   ],
   "source": [
    "# we want emb to be 32 by 6, the six being 2 by 3 first layer neurons\n",
    "torch.cat([emb[:,0,:], emb[:,1,:], emb[:,2,:]], 1).shape"
   ]
  },
  {
   "cell_type": "code",
   "execution_count": 125,
   "id": "f0d87143",
   "metadata": {},
   "outputs": [
    {
     "data": {
      "text/plain": [
       "torch.Size([32, 6])"
      ]
     },
     "execution_count": 125,
     "metadata": {},
     "output_type": "execute_result"
    }
   ],
   "source": [
    "# to cope with any block_size\n",
    "torch.cat(torch.unbind(emb, 1), 1).shape"
   ]
  },
  {
   "cell_type": "code",
   "execution_count": 126,
   "id": "ce5a29b6",
   "metadata": {},
   "outputs": [],
   "source": [
    "# more efficiently, as all torch tensors are stored as one-dimensional\n",
    "# emb.view(32, 6) == torch.cat(torch.unbind(emb, 1), 1)"
   ]
  },
  {
   "cell_type": "code",
   "execution_count": 127,
   "id": "fd7c0f16",
   "metadata": {},
   "outputs": [
    {
     "name": "stdout",
     "output_type": "stream",
     "text": [
      "h.min = tensor(-10.3292) h.max = tensor(9.9944)\n"
     ]
    }
   ],
   "source": [
    "xDim0 = X.shape[0]\n",
    "h = torch.zeros((xDim0, 100))\n",
    "for i in range(xDim0):\n",
    "    h[i] = emb.view(-1, 6)[i,:] @ W1 + b1\n",
    "#     print(h[i])\n",
    "print('h.min =',torch.min(h), 'h.max =',torch.max(h))"
   ]
  },
  {
   "cell_type": "code",
   "execution_count": 128,
   "id": "8ecc9e8c",
   "metadata": {},
   "outputs": [
    {
     "name": "stdout",
     "output_type": "stream",
     "text": [
      "torch.Size([32, 100]) torch.float32\n"
     ]
    }
   ],
   "source": [
    "print(h.shape, h.dtype)"
   ]
  },
  {
   "cell_type": "code",
   "execution_count": 129,
   "id": "88f4f775",
   "metadata": {},
   "outputs": [
    {
     "name": "stdout",
     "output_type": "stream",
     "text": [
      "torch.Size([100, 27]) torch.float32\n"
     ]
    }
   ],
   "source": [
    "W2 = torch.randn((100,27))\n",
    "b2 = torch.randn(27)\n",
    "print(W2.shape, W2.dtype)"
   ]
  },
  {
   "cell_type": "code",
   "execution_count": 130,
   "id": "07b16fcb",
   "metadata": {},
   "outputs": [],
   "source": [
    "# logits = h[:,:29] @ W2[:29,:]\n",
    "logits = h @ W2 + b2\n",
    "logits /= 10"
   ]
  },
  {
   "cell_type": "code",
   "execution_count": 131,
   "id": "33af4310",
   "metadata": {},
   "outputs": [
    {
     "name": "stdout",
     "output_type": "stream",
     "text": [
      "torch.Size([32, 27]) torch.float32\n",
      "logits.max = tensor(10.2566) logits.min = tensor(-10.1803)\n"
     ]
    }
   ],
   "source": [
    "print(logits.shape, logits.dtype)\n",
    "print('logits.max =', torch.max(logits), 'logits.min =', torch.min(logits))"
   ]
  },
  {
   "cell_type": "code",
   "execution_count": 132,
   "id": "3a3214a6",
   "metadata": {},
   "outputs": [
    {
     "name": "stdout",
     "output_type": "stream",
     "text": [
      "min(counts) = tensor(3.7911e-05) max(counts) = tensor(28470.3242)\n"
     ]
    }
   ],
   "source": [
    "counts = logits.exp()\n",
    "print('min(counts) =', torch.min(counts), 'max(counts) =', torch.max(counts))"
   ]
  },
  {
   "cell_type": "code",
   "execution_count": 133,
   "id": "e80503ff",
   "metadata": {},
   "outputs": [
    {
     "data": {
      "text/plain": [
       "tensor(1.0569e-09)"
      ]
     },
     "execution_count": 133,
     "metadata": {},
     "output_type": "execute_result"
    }
   ],
   "source": [
    "prob = counts / counts.sum(1, keepdims=True)\n",
    "torch.min(prob)"
   ]
  },
  {
   "cell_type": "code",
   "execution_count": 134,
   "id": "a23f35f9",
   "metadata": {},
   "outputs": [
    {
     "name": "stdout",
     "output_type": "stream",
     "text": [
      "torch.Size([32, 27])\n",
      "tensor([[3.1552e-02, 2.4393e-03, 4.2834e-03, 1.6376e-02, 8.2613e-03, 2.6035e-02,\n",
      "         1.9344e-01, 1.6046e-03, 2.1348e-03, 4.5758e-04, 1.5580e-02, 8.7492e-03,\n",
      "         5.2642e-02, 1.6860e-02, 4.7842e-02, 2.8344e-02, 4.2917e-03, 3.5706e-02,\n",
      "         7.2150e-02, 1.0739e-02, 3.7249e-03, 5.6564e-02, 2.7348e-01, 7.2411e-02,\n",
      "         4.4776e-03, 1.2730e-03, 8.5790e-03],\n",
      "        [3.0890e-02, 6.1272e-03, 1.4810e-03, 1.0848e-02, 1.5643e-02, 3.2987e-02,\n",
      "         2.5105e-01, 7.2413e-04, 3.0510e-03, 2.9452e-04, 6.3125e-03, 1.4149e-02,\n",
      "         2.6792e-02, 7.5271e-03, 4.5408e-02, 3.1688e-02, 4.1022e-03, 5.3731e-02,\n",
      "         1.0192e-01, 8.1777e-03, 1.5669e-03, 1.5288e-01, 1.6022e-01, 2.0172e-02,\n",
      "         3.5893e-03, 5.5972e-03, 3.0700e-03],\n",
      "        [1.8234e-02, 1.0934e-03, 4.9068e-04, 3.4447e-02, 3.0642e-03, 1.9169e-02,\n",
      "         5.1444e-01, 4.1764e-04, 1.2194e-03, 4.3955e-04, 3.7714e-03, 2.9515e-03,\n",
      "         2.1857e-02, 6.3003e-03, 1.0162e-02, 4.5842e-03, 1.1559e-02, 1.7725e-02,\n",
      "         1.3139e-02, 1.2588e-02, 8.0775e-04, 5.7154e-02, 2.0629e-01, 9.5848e-03,\n",
      "         1.4523e-02, 1.1959e-02, 2.0353e-03],\n",
      "        [9.0216e-03, 7.4795e-04, 1.8732e-04, 4.6522e-02, 7.1125e-04, 5.3494e-02,\n",
      "         5.8994e-01, 6.6382e-05, 2.3051e-03, 5.2080e-05, 4.6418e-04, 2.1953e-03,\n",
      "         9.0976e-03, 5.5345e-03, 7.5774e-03, 2.7229e-03, 8.0738e-03, 8.9606e-04,\n",
      "         7.7907e-02, 3.1074e-03, 1.0591e-03, 1.3809e-02, 1.3773e-01, 2.0232e-02,\n",
      "         1.7304e-03, 2.2151e-03, 2.6037e-03],\n",
      "        [4.1385e-03, 4.0267e-04, 3.6573e-03, 9.6955e-03, 1.1268e-03, 2.6501e-01,\n",
      "         2.9905e-01, 1.5427e-03, 1.1582e-02, 1.1838e-03, 2.7754e-03, 6.3866e-02,\n",
      "         1.8798e-02, 8.2008e-03, 4.8211e-02, 8.1531e-03, 1.1538e-01, 3.8678e-04,\n",
      "         2.0899e-02, 1.1945e-02, 5.6663e-03, 5.9418e-03, 5.3881e-02, 8.2358e-03,\n",
      "         1.5543e-02, 1.7401e-03, 1.2981e-02],\n",
      "        [3.1552e-02, 2.4393e-03, 4.2834e-03, 1.6376e-02, 8.2613e-03, 2.6035e-02,\n",
      "         1.9344e-01, 1.6046e-03, 2.1348e-03, 4.5758e-04, 1.5580e-02, 8.7492e-03,\n",
      "         5.2642e-02, 1.6860e-02, 4.7842e-02, 2.8344e-02, 4.2917e-03, 3.5706e-02,\n",
      "         7.2150e-02, 1.0739e-02, 3.7249e-03, 5.6564e-02, 2.7348e-01, 7.2411e-02,\n",
      "         4.4776e-03, 1.2730e-03, 8.5790e-03],\n",
      "        [3.1878e-02, 1.2579e-03, 2.1736e-03, 2.4546e-02, 3.8166e-03, 7.6772e-03,\n",
      "         1.4006e-01, 6.9629e-04, 6.1317e-04, 1.5802e-04, 1.2225e-02, 1.3471e-03,\n",
      "         4.6523e-02, 1.6964e-02, 1.8204e-02, 1.3381e-02, 1.1359e-03, 3.5645e-02,\n",
      "         5.6638e-02, 5.9980e-03, 2.3454e-03, 3.3367e-02, 3.8587e-01, 1.4906e-01,\n",
      "         1.8544e-03, 4.2316e-04, 6.1446e-03],\n",
      "        [3.7638e-02, 7.0730e-04, 1.1060e-03, 1.3120e-02, 1.1366e-03, 2.3741e-03,\n",
      "         4.2609e-02, 2.8219e-04, 1.0273e-04, 2.1326e-05, 1.3726e-02, 3.7516e-04,\n",
      "         2.8166e-02, 1.1852e-02, 1.7265e-02, 1.5224e-02, 1.1873e-04, 6.4237e-02,\n",
      "         3.5347e-02, 1.9002e-03, 2.1719e-03, 5.6291e-03, 3.7022e-01, 3.2829e-01,\n",
      "         7.2397e-04, 2.2502e-05, 5.6262e-03],\n",
      "        [4.1121e-03, 2.8859e-03, 2.4775e-04, 1.6239e-05, 8.8086e-03, 1.7700e-02,\n",
      "         1.9359e-02, 6.6045e-04, 3.1762e-03, 1.5897e-05, 7.9125e-04, 4.7413e-01,\n",
      "         7.4512e-04, 7.4865e-05, 1.4447e-01, 2.1112e-01, 2.0663e-03, 2.4738e-02,\n",
      "         3.6141e-03, 3.2866e-04, 1.0575e-04, 7.8267e-02, 1.0066e-03, 9.9173e-05,\n",
      "         1.0269e-03, 2.6951e-04, 1.7025e-04],\n",
      "        [6.5744e-04, 1.0069e-07, 8.1857e-05, 9.8286e-02, 2.2430e-05, 8.6133e-06,\n",
      "         6.9383e-01, 7.4793e-04, 2.3661e-05, 1.9561e-04, 4.6691e-04, 4.7093e-07,\n",
      "         1.2826e-02, 1.6063e-03, 3.0729e-06, 6.2993e-06, 2.2707e-02, 5.0617e-05,\n",
      "         3.4169e-06, 1.8342e-03, 4.6462e-06, 7.9022e-02, 7.8965e-02, 6.1247e-03,\n",
      "         2.0281e-03, 4.0183e-04, 9.5402e-05],\n",
      "        [2.8148e-06, 1.4728e-03, 2.7877e-07, 9.2789e-07, 9.3796e-06, 1.9453e-01,\n",
      "         1.5552e-05, 1.0569e-09, 1.1560e-04, 3.1248e-08, 5.0659e-08, 6.9751e-03,\n",
      "         8.5977e-07, 3.2144e-06, 2.9883e-03, 6.1986e-05, 8.1719e-07, 3.5609e-07,\n",
      "         7.9371e-01, 1.8212e-06, 7.3663e-05, 1.8915e-07, 1.0605e-05, 1.8611e-06,\n",
      "         1.4078e-07, 1.4955e-05, 1.2370e-05],\n",
      "        [1.9543e-04, 1.1445e-06, 4.7840e-04, 1.9921e-03, 5.2796e-04, 1.4428e-04,\n",
      "         1.7755e-01, 8.2655e-03, 2.9232e-04, 2.0491e-02, 1.4298e-03, 2.6192e-04,\n",
      "         6.8588e-03, 3.3531e-04, 5.1741e-05, 3.4504e-05, 4.2912e-01, 2.3746e-04,\n",
      "         1.0239e-06, 1.4208e-02, 6.4603e-06, 2.1214e-01, 5.0002e-03, 2.3058e-05,\n",
      "         6.4808e-02, 5.5503e-02, 5.2053e-05],\n",
      "        [3.1552e-02, 2.4393e-03, 4.2834e-03, 1.6376e-02, 8.2613e-03, 2.6035e-02,\n",
      "         1.9344e-01, 1.6046e-03, 2.1348e-03, 4.5758e-04, 1.5580e-02, 8.7492e-03,\n",
      "         5.2642e-02, 1.6860e-02, 4.7842e-02, 2.8344e-02, 4.2917e-03, 3.5706e-02,\n",
      "         7.2150e-02, 1.0739e-02, 3.7249e-03, 5.6564e-02, 2.7348e-01, 7.2411e-02,\n",
      "         4.4776e-03, 1.2730e-03, 8.5790e-03],\n",
      "        [8.1106e-03, 1.5180e-03, 1.9043e-02, 2.1418e-03, 9.0727e-03, 1.4018e-01,\n",
      "         9.2194e-02, 8.3710e-03, 1.0975e-02, 3.1156e-03, 1.8518e-02, 2.1128e-01,\n",
      "         3.6500e-02, 9.3838e-03, 1.7246e-01, 4.8972e-02, 4.0547e-02, 6.2458e-03,\n",
      "         2.5517e-02, 1.7182e-02, 7.6904e-03, 2.2887e-02, 4.7363e-02, 9.3948e-03,\n",
      "         1.5160e-02, 1.4888e-03, 1.4682e-02],\n",
      "        [5.2338e-03, 1.6915e-04, 7.5571e-03, 3.4656e-02, 3.2976e-03, 1.4754e-03,\n",
      "         6.9091e-02, 1.0951e-03, 6.5672e-04, 5.6325e-04, 6.1892e-03, 1.2369e-04,\n",
      "         7.9685e-02, 3.3567e-02, 1.3829e-03, 1.1897e-03, 1.1068e-03, 1.4715e-03,\n",
      "         6.2287e-02, 4.9667e-03, 1.2596e-03, 6.6202e-02, 2.9605e-01, 3.1534e-01,\n",
      "         1.5235e-04, 3.4971e-04, 4.8842e-03],\n",
      "        [6.5176e-04, 1.5983e-02, 4.7952e-03, 1.0350e-05, 5.2472e-03, 1.1612e-01,\n",
      "         5.0018e-05, 6.9271e-05, 2.0764e-04, 6.4085e-04, 9.2882e-03, 2.0021e-01,\n",
      "         1.8179e-03, 1.1369e-03, 4.4857e-01, 1.6449e-02, 1.9954e-05, 2.4199e-02,\n",
      "         1.3053e-01, 2.8051e-03, 1.3722e-02, 2.1204e-05, 2.6769e-03, 3.9371e-04,\n",
      "         7.3349e-04, 1.6357e-04, 3.4970e-03],\n",
      "        [3.1552e-02, 2.4393e-03, 4.2834e-03, 1.6376e-02, 8.2613e-03, 2.6035e-02,\n",
      "         1.9344e-01, 1.6046e-03, 2.1348e-03, 4.5758e-04, 1.5580e-02, 8.7492e-03,\n",
      "         5.2642e-02, 1.6860e-02, 4.7842e-02, 2.8344e-02, 4.2917e-03, 3.5706e-02,\n",
      "         7.2150e-02, 1.0739e-02, 3.7249e-03, 5.6564e-02, 2.7348e-01, 7.2411e-02,\n",
      "         4.4776e-03, 1.2730e-03, 8.5790e-03],\n",
      "        [3.0651e-03, 8.9551e-03, 3.7933e-04, 2.5714e-04, 2.3954e-02, 1.2025e-01,\n",
      "         7.9950e-02, 3.6185e-04, 1.3322e-02, 3.7864e-04, 5.6541e-04, 3.8071e-01,\n",
      "         2.1279e-03, 3.7247e-04, 6.3504e-02, 2.8452e-02, 1.5597e-02, 8.1130e-03,\n",
      "         2.8073e-02, 3.2797e-03, 2.6522e-04, 1.6517e-01, 4.0127e-03, 9.1968e-05,\n",
      "         3.4189e-03, 4.5062e-02, 3.1571e-04],\n",
      "        [3.5708e-04, 9.2028e-06, 3.1313e-05, 6.9826e-02, 1.5596e-04, 1.3327e-03,\n",
      "         5.8213e-01, 5.2322e-05, 2.8687e-04, 1.3981e-03, 9.3510e-05, 2.8845e-05,\n",
      "         4.1923e-03, 1.1455e-03, 2.6372e-05, 6.5166e-06, 6.3510e-02, 4.8471e-05,\n",
      "         1.8925e-04, 8.5616e-03, 1.9500e-05, 3.0825e-02, 3.6147e-02, 2.2049e-04,\n",
      "         7.5076e-03, 1.9181e-01, 8.8659e-05],\n",
      "        [1.2930e-05, 1.2125e-04, 1.4060e-05, 8.7472e-04, 4.5556e-06, 6.9753e-01,\n",
      "         1.1466e-03, 6.7575e-08, 4.4865e-04, 1.3090e-05, 1.9894e-06, 1.4144e-03,\n",
      "         9.1040e-05, 4.7788e-04, 1.3633e-03, 9.6264e-06, 3.1008e-04, 1.0883e-07,\n",
      "         2.9102e-01, 2.4698e-04, 2.1282e-03, 3.1271e-07, 1.3451e-03, 1.8253e-04,\n",
      "         3.2219e-05, 2.4503e-04, 9.7030e-04],\n",
      "        [3.9218e-03, 2.1971e-03, 1.0517e-03, 1.8793e-02, 1.2168e-02, 1.2316e-02,\n",
      "         1.2927e-01, 1.3970e-04, 3.3608e-03, 3.8285e-04, 6.8469e-04, 1.0019e-03,\n",
      "         1.8794e-02, 8.8356e-03, 2.4309e-03, 1.4739e-03, 1.9397e-03, 1.4198e-03,\n",
      "         4.1800e-01, 4.2373e-03, 5.3791e-04, 2.2381e-01, 9.6735e-02, 1.9500e-02,\n",
      "         1.2902e-04, 1.5753e-02, 1.1169e-03],\n",
      "        [8.0271e-03, 3.5544e-02, 3.0735e-04, 7.2145e-03, 7.4136e-03, 1.2129e-01,\n",
      "         1.0729e-02, 1.7192e-05, 1.8847e-04, 2.2260e-03, 6.5858e-03, 7.1749e-03,\n",
      "         8.6157e-03, 5.6997e-03, 4.1808e-02, 1.7258e-03, 3.0815e-04, 2.0198e-01,\n",
      "         1.3753e-01, 4.1637e-02, 4.5075e-03, 7.4705e-04, 1.4085e-01, 1.0079e-03,\n",
      "         2.7239e-02, 1.7771e-01, 1.9134e-03],\n",
      "        [9.9831e-03, 3.5114e-05, 1.3018e-04, 1.0462e-01, 9.4744e-05, 1.2465e-03,\n",
      "         3.6626e-01, 8.0207e-05, 1.1386e-04, 1.2344e-05, 9.4459e-04, 2.9187e-05,\n",
      "         1.4071e-02, 7.0636e-03, 7.3929e-04, 6.2451e-04, 1.2403e-03, 1.0074e-03,\n",
      "         5.3254e-03, 1.2617e-03, 3.5194e-04, 6.3908e-03, 3.2979e-01, 1.4594e-01,\n",
      "         7.1956e-04, 6.4970e-05, 1.8599e-03],\n",
      "        [1.8691e-02, 4.1388e-04, 2.7128e-04, 8.3870e-03, 1.4106e-04, 5.3083e-03,\n",
      "         2.4922e-02, 2.9651e-05, 9.3854e-05, 9.4915e-07, 1.6937e-03, 2.8919e-04,\n",
      "         7.0908e-03, 6.3800e-03, 1.8312e-02, 1.2525e-02, 3.4701e-05, 4.5824e-03,\n",
      "         1.3009e-01, 2.6215e-04, 2.7939e-03, 4.4602e-04, 1.7152e-01, 5.7917e-01,\n",
      "         7.9064e-05, 1.0515e-06, 6.4690e-03],\n",
      "        [9.4223e-03, 1.2616e-04, 1.0897e-02, 5.3859e-05, 2.6900e-03, 3.5236e-03,\n",
      "         2.2163e-02, 4.0651e-02, 1.6139e-03, 6.4303e-05, 2.6525e-02, 1.4537e-01,\n",
      "         1.0075e-02, 8.2380e-04, 1.9253e-01, 4.5275e-01, 5.4395e-03, 2.0623e-02,\n",
      "         4.5737e-04, 7.6233e-04, 7.9728e-04, 3.3295e-02, 5.9944e-03, 7.0405e-03,\n",
      "         2.9856e-03, 2.2638e-06, 3.3202e-03],\n",
      "        [3.1552e-02, 2.4393e-03, 4.2834e-03, 1.6376e-02, 8.2613e-03, 2.6035e-02,\n",
      "         1.9344e-01, 1.6046e-03, 2.1348e-03, 4.5758e-04, 1.5580e-02, 8.7492e-03,\n",
      "         5.2642e-02, 1.6860e-02, 4.7842e-02, 2.8344e-02, 4.2917e-03, 3.5706e-02,\n",
      "         7.2150e-02, 1.0739e-02, 3.7249e-03, 5.6564e-02, 2.7348e-01, 7.2411e-02,\n",
      "         4.4776e-03, 1.2730e-03, 8.5790e-03],\n",
      "        [2.9390e-02, 3.8574e-03, 4.0185e-03, 1.1677e-02, 1.2679e-02, 4.3219e-02,\n",
      "         2.2294e-01, 1.7242e-03, 3.6996e-03, 5.9402e-04, 1.2733e-02, 2.0277e-02,\n",
      "         4.3529e-02, 1.2760e-02, 6.6178e-02, 3.7463e-02, 6.9105e-03, 3.7484e-02,\n",
      "         8.2257e-02, 1.1953e-02, 3.3679e-03, 8.6282e-02, 1.9350e-01, 3.5947e-02,\n",
      "         5.7171e-03, 2.8023e-03, 7.0441e-03],\n",
      "        [2.2777e-02, 7.1640e-04, 1.4774e-03, 4.3313e-02, 2.7833e-03, 6.3047e-03,\n",
      "         2.1917e-01, 5.7376e-04, 5.8279e-04, 2.4588e-04, 8.1320e-03, 7.0877e-04,\n",
      "         4.5301e-02, 1.6348e-02, 7.9176e-03, 5.1768e-03, 2.1386e-03, 1.8334e-02,\n",
      "         3.2399e-02, 7.7877e-03, 1.5092e-03, 3.9867e-02, 4.1118e-01, 9.7167e-02,\n",
      "         2.5863e-03, 1.0760e-03, 4.4271e-03],\n",
      "        [6.8674e-03, 8.7347e-03, 1.0466e-03, 6.6648e-04, 7.5916e-03, 2.4069e-01,\n",
      "         4.5563e-02, 3.2112e-04, 6.2143e-03, 1.9852e-04, 2.0331e-03, 2.6180e-01,\n",
      "         4.7780e-03, 1.6429e-03, 2.0597e-01, 5.2754e-02, 4.7778e-03, 1.0380e-02,\n",
      "         9.5085e-02, 3.7232e-03, 2.5189e-03, 1.0706e-02, 1.5649e-02, 1.5025e-03,\n",
      "         3.6785e-03, 2.4736e-03, 2.6431e-03],\n",
      "        [1.6311e-03, 2.5373e-05, 5.8577e-04, 1.4155e-02, 1.1971e-03, 1.5819e-03,\n",
      "         5.4570e-01, 1.5990e-03, 1.5046e-03, 1.0573e-03, 8.7027e-04, 5.0834e-04,\n",
      "         1.3831e-02, 2.1085e-03, 4.2114e-04, 3.9451e-04, 7.2222e-02, 3.5379e-04,\n",
      "         4.9668e-04, 5.6858e-03, 6.5625e-05, 2.8361e-01, 3.5086e-02, 1.8676e-03,\n",
      "         3.8382e-03, 9.2080e-03, 3.9502e-04],\n",
      "        [6.4334e-05, 5.7330e-03, 1.0621e-05, 1.9406e-04, 8.2625e-04, 5.2060e-01,\n",
      "         4.4840e-03, 3.8190e-07, 2.8924e-03, 6.6902e-05, 4.0053e-06, 2.7180e-02,\n",
      "         9.8944e-05, 1.1265e-04, 4.2009e-03, 1.4377e-04, 8.6934e-04, 2.1470e-05,\n",
      "         3.3176e-01, 6.6347e-04, 2.0196e-04, 3.3535e-04, 6.7088e-04, 7.6737e-06,\n",
      "         1.1023e-04, 9.8674e-02, 7.6779e-05],\n",
      "        [9.5515e-05, 1.4097e-05, 1.6487e-04, 1.9538e-02, 1.6058e-04, 1.6056e-02,\n",
      "         1.3596e-01, 9.6443e-05, 8.1871e-04, 2.0002e-02, 1.7115e-04, 4.6644e-04,\n",
      "         3.9519e-03, 1.4931e-03, 1.2350e-04, 5.7288e-06, 2.3502e-01, 1.2889e-05,\n",
      "         2.4726e-04, 3.0004e-02, 1.3327e-04, 2.2852e-03, 1.3862e-02, 4.7908e-05,\n",
      "         3.5625e-02, 4.8333e-01, 3.1330e-04]])\n"
     ]
    }
   ],
   "source": [
    "print(prob.shape)\n",
    "prob.sum(1)\n",
    "print(prob)"
   ]
  },
  {
   "cell_type": "code",
   "execution_count": 135,
   "id": "bcb45518",
   "metadata": {},
   "outputs": [
    {
     "data": {
      "text/plain": [
       "tensor(6.3009)"
      ]
     },
     "execution_count": 135,
     "metadata": {},
     "output_type": "execute_result"
    }
   ],
   "source": [
    "loss = -prob[torch.arange(32), Y].log().mean()\n",
    "loss"
   ]
  },
  {
   "cell_type": "code",
   "execution_count": 136,
   "id": "da59bba5",
   "metadata": {},
   "outputs": [],
   "source": [
    "# ----------------- now made respectable :) -------------------"
   ]
  },
  {
   "cell_type": "code",
   "execution_count": 137,
   "id": "090708c4",
   "metadata": {},
   "outputs": [],
   "source": [
    "# build the dataset\n",
    "\n",
    "block_size = 3 # context length: how many characters do we take to predict the next one?\n",
    "X, Y = [], []\n",
    "# for w in words[:5]:\n",
    "for w in words:\n",
    "    \n",
    "#     print(w)\n",
    "    context = [0] * block_size\n",
    "    for ch in w + '.':\n",
    "        ix = stoi[ch]\n",
    "        X.append(context)\n",
    "        Y.append(ix)\n",
    "#         print(''.join(itos[i] for i in context), '--->', itos[ix])\n",
    "        context = context[1:] + [ix] # crop and append\n",
    "\n",
    "X = torch.tensor(X)\n",
    "Y = torch.tensor(Y)"
   ]
  },
  {
   "cell_type": "code",
   "execution_count": 138,
   "id": "72ccc6fc",
   "metadata": {},
   "outputs": [
    {
     "data": {
      "text/plain": [
       "(torch.Size([228146, 3]), torch.Size([228146]))"
      ]
     },
     "execution_count": 138,
     "metadata": {},
     "output_type": "execute_result"
    }
   ],
   "source": [
    "X.shape, Y.shape # dataset"
   ]
  },
  {
   "cell_type": "code",
   "execution_count": 139,
   "id": "683e5ea1",
   "metadata": {},
   "outputs": [],
   "source": [
    "g = torch.Generator().manual_seed(2147483647) # for reproducibility\n",
    "C = torch.randn((27,2), generator=g)\n",
    "W1 = torch.randn((6,100), generator=g)\n",
    "b1 = torch.randn(100, generator=g)\n",
    "W2 = torch.randn((100,27), generator=g)\n",
    "b2 = torch.randn(27, generator=g)\n",
    "parameters = (C, W1, b1, W2, b2)\n",
    "for p in parameters:\n",
    "    p.requires_grad = True"
   ]
  },
  {
   "cell_type": "code",
   "execution_count": 140,
   "id": "85b9331c",
   "metadata": {},
   "outputs": [
    {
     "data": {
      "text/plain": [
       "3481"
      ]
     },
     "execution_count": 140,
     "metadata": {},
     "output_type": "execute_result"
    }
   ],
   "source": [
    "sum(p.nelement() for p in parameters)"
   ]
  },
  {
   "cell_type": "code",
   "execution_count": 160,
   "id": "22707aa3",
   "metadata": {},
   "outputs": [],
   "source": [
    "lre = torch.linspace(-3,0,1000)\n",
    "lrs = 10**lre"
   ]
  },
  {
   "cell_type": "code",
   "execution_count": 170,
   "id": "5c454eb3",
   "metadata": {},
   "outputs": [
    {
     "name": "stdout",
     "output_type": "stream",
     "text": [
      "3.610029935836792\n"
     ]
    }
   ],
   "source": [
    "lri = []\n",
    "lossi = []\n",
    "\n",
    "for i in range(1000):\n",
    "    \n",
    "    #construct minibatch\n",
    "    ix = torch.randint(0, X.shape[0], (32,))\n",
    "    \n",
    "    # forward pass\n",
    "    emb = C[X[ix]] \n",
    "    XDim0 = X.shape[0]\n",
    "    XDim0 = 32\n",
    "    h = torch.zeros((XDim0, 100))\n",
    "    for j in range(XDim0):\n",
    "        h[j] = torch.tanh(emb.view(-1, 6)[j,:] @ W1 + b1)\n",
    "    logits = h @ W2 + b2\n",
    "    loss = F.cross_entropy(logits, Y[ix])\n",
    "\n",
    "    # backward pass\n",
    "    for p in parameters:\n",
    "        p.grad = None\n",
    "    loss.backward()\n",
    "    \n",
    "    # update\n",
    "    lr = lrs[i].item()\n",
    "    for p in parameters:\n",
    "        p.data += -lr * p.grad\n",
    "        \n",
    "    #track stats\n",
    "    lri.append(lre[i])\n",
    "    lossi.append(loss.item())\n",
    "        \n",
    "print(loss.item())\n"
   ]
  },
  {
   "cell_type": "code",
   "execution_count": 169,
   "id": "cddb0235",
   "metadata": {},
   "outputs": [
    {
     "data": {
      "text/plain": [
       "[<matplotlib.lines.Line2D at 0x7f427d7af0>]"
      ]
     },
     "execution_count": 169,
     "metadata": {},
     "output_type": "execute_result"
    },
    {
     "data": {
      "image/png": "[encoded data removed]",
      "text/plain": [
       "<Figure size 640x480 with 1 Axes>"
      ]
     },
     "metadata": {},
     "output_type": "display_data"
    }
   ],
   "source": [
    "plt.plot(lri, lossi)"
   ]
  },
  {
   "cell_type": "code",
   "execution_count": 171,
   "id": "f147f303",
   "metadata": {},
   "outputs": [
    {
     "name": "stdout",
     "output_type": "stream",
     "text": [
      "3.3726906776428223\n"
     ]
    }
   ],
   "source": [
    "    emb = C[X] \n",
    "    XDim0 = X.shape[0]\n",
    "    h = torch.zeros((XDim0, 100))\n",
    "    for i in range(XDim0):\n",
    "        h[i] = torch.tanh(emb.view(-1, 6)[i,:] @ W1 + b1)\n",
    "    logits = h @ W2 + b2\n",
    "    loss = F.cross_entropy(logits, Y)\n",
    "    print(loss.item())"
   ]
  },
  {
   "cell_type": "code",
   "execution_count": null,
   "id": "91b04d4c",
   "metadata": {},
   "outputs": [],
   "source": [
    "g = torch.Generator().manual_seed(2147483647) # for reproducibility\n",
    "C = torch.randn((27,2), generator=g)\n",
    "W1 = torch.randn((6,100), generator=g)\n",
    "b1 = torch.randn(100, generator=g)\n",
    "W2 = torch.randn((100,27), generator=g)\n",
    "b2 = torch.randn(27, generator=g)\n",
    "parameters = (C, W1, b1, W2, b2)\n",
    "for p in parameters:\n",
    "    p.requires_grad = True"
   ]
  },
  {
   "cell_type": "code",
   "execution_count": null,
   "id": "1f51478f",
   "metadata": {},
   "outputs": [],
   "source": []
  },
  {
   "cell_type": "code",
   "execution_count": null,
   "id": "eeae6b7c",
   "metadata": {},
   "outputs": [],
   "source": []
  }
 ],
 "metadata": {
  "kernelspec": {
   "display_name": "Python 3 (ipykernel)",
   "language": "python",
   "name": "python3"
  },
  "language_info": {
   "codemirror_mode": {
    "name": "ipython",
    "version": 3
   },
   "file_extension": ".py",
   "mimetype": "text/x-python",
   "name": "python",
   "nbconvert_exporter": "python",
   "pygments_lexer": "ipython3",
   "version": "3.8.10"
  }
 },
 "nbformat": 4,
 "nbformat_minor": 5
}
